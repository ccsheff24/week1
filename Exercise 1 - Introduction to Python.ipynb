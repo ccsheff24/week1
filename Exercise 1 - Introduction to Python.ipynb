{
 "cells": [
  {
   "cell_type": "markdown",
   "metadata": {
    "id": "TB4S1VnvfJgq"
   },
   "source": [
    "# Exercise 1 - Introduction to Python"
   ]
  },
  {
   "cell_type": "markdown",
   "metadata": {
    "id": "WBVx3IzsfJhH"
   },
   "source": [
    "### Question 1a (refer to DataType)\n",
    "Write a program which assign:<br>\n",
    "your favourite fruit to `fruit` variable, The DataType should be string<br>\n",
    "your birth age to `birth_month` variable, The DataType should be integer<br>\n",
    "your birth day to `birth_day` variable, The DataType should be integer"
   ]
  },
  {
   "cell_type": "code",
   "execution_count": null,
   "metadata": {
    "id": "-oTnhfkafJhI"
   },
   "outputs": [],
   "source": [
    "# your code:\n",
    "fruit = \n",
    "birth_month = \n",
    "birth_day ="
   ]
  },
  {
   "cell_type": "code",
   "execution_count": null,
   "metadata": {},
   "outputs": [],
   "source": [
    "# dont remove, just run it\n",
    "print(type(fruit))\n",
    "print(type(birth_month))\n",
    "print(type(birth_day))"
   ]
  },
  {
   "cell_type": "markdown",
   "metadata": {},
   "source": [
    "### Question 1b (TypeCasting)\n",
    "I want to the `birth_month` in float datatype"
   ]
  },
  {
   "cell_type": "code",
   "execution_count": null,
   "metadata": {},
   "outputs": [],
   "source": [
    "# your code"
   ]
  },
  {
   "cell_type": "code",
   "execution_count": null,
   "metadata": {},
   "outputs": [],
   "source": [
    "# dont remove, just run it\n",
    "print(type(birth_month))"
   ]
  },
  {
   "cell_type": "markdown",
   "metadata": {},
   "source": [
    "### Question 1c (refer to Arithmetic operations)\n",
    "Get the *integer* part of $$\\frac{birth\\_day}{birth\\_month}$$ and store it in *\"luckynumber\"* variable\n",
    "\n",
    "Make sure luckynumber DataType is integer"
   ]
  },
  {
   "cell_type": "code",
   "execution_count": null,
   "metadata": {},
   "outputs": [],
   "source": [
    "# your code:\n",
    "luckynumber =\n",
    "\n",
    "print(type(birth_day))"
   ]
  },
  {
   "cell_type": "markdown",
   "metadata": {
    "id": "sWXFaOR4fJhD"
   },
   "source": [
    "### Question 2a (refer to Python I/O + TypeCasting + String Ops)\n",
    "Write a program that able to greets someone. <br>\n",
    "It should ask for a person's name and store in \"name\"<br>\n",
    "then greet them with something like '*Hello Bob!'.\n",
    "\n",
    "Make sure the input are "
   ]
  },
  {
   "cell_type": "code",
   "execution_count": null,
   "metadata": {},
   "outputs": [],
   "source": [
    "# your code:\n",
    "\n",
    "#dont remove\n",
    "print(\"Hello \"+ name)"
   ]
  },
  {
   "cell_type": "markdown",
   "metadata": {},
   "source": [
    "### Question 2b (string ops)\n",
    " please change the `print(\"Hello \"+ name)` into one of the String formatter"
   ]
  },
  {
   "cell_type": "code",
   "execution_count": null,
   "metadata": {},
   "outputs": [],
   "source": [
    "print(  )"
   ]
  },
  {
   "cell_type": "markdown",
   "metadata": {},
   "source": [
    "### Question 3 (refer to substring)\n",
    "From the verylongtext . I want to get the string \"Teen\". <br>\n",
    "Hint: the T in Teen is the 16th number of the text (count from 1)"
   ]
  },
  {
   "cell_type": "code",
   "execution_count": null,
   "metadata": {},
   "outputs": [],
   "source": [
    "#dont remove, run this before question 3\n",
    "verylongtext = \"There's also a Teen Titans Go episode about Pig Latin. Don't know what Pig Latin is? It's a language\""
   ]
  },
  {
   "cell_type": "code",
   "execution_count": null,
   "metadata": {
    "id": "TbiteJOIfJhL"
   },
   "outputs": [],
   "source": [
    "# your code:\n"
   ]
  },
  {
   "cell_type": "markdown",
   "metadata": {
    "id": "F8L9KHjcfJhM"
   },
   "source": [
    "### Week1Project: BMI calculator\n",
    "$$BMI = \\frac{Weight(kg)}{Height(cm)^2}$$\n",
    "look at the final result and tailor your code"
   ]
  },
  {
   "cell_type": "code",
   "execution_count": null,
   "metadata": {
    "id": "yLWXncjtfJhN"
   },
   "outputs": [],
   "source": []
  },
  {
   "cell_type": "markdown",
   "metadata": {},
   "source": [
    "### Advenced: Temperature Converter\n",
    "$$C = \\frac{5}{9}(F-32)$$ \n",
    "look at the final result and tailor your code"
   ]
  },
  {
   "cell_type": "code",
   "execution_count": null,
   "metadata": {},
   "outputs": [],
   "source": []
  }
 ],
 "metadata": {
  "colab": {
   "collapsed_sections": [],
   "name": "Exercise 1 - Introduction to Python.ipynb",
   "provenance": []
  },
  "kernelspec": {
   "display_name": "Python 3",
   "language": "python",
   "name": "python3"
  },
  "language_info": {
   "codemirror_mode": {
    "name": "ipython",
    "version": 3
   },
   "file_extension": ".py",
   "mimetype": "text/x-python",
   "name": "python",
   "nbconvert_exporter": "python",
   "pygments_lexer": "ipython3",
   "version": "3.7.4"
  }
 },
 "nbformat": 4,
 "nbformat_minor": 0
}
